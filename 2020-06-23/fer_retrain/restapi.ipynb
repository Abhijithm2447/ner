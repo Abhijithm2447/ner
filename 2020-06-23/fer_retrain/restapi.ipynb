{
 "cells": [
  {
   "cell_type": "markdown",
   "metadata": {},
   "source": [
    "# Rest API"
   ]
  },
  {
   "cell_type": "code",
   "execution_count": 1,
   "metadata": {},
   "outputs": [],
   "source": [
    "import requests\n",
    "import json"
   ]
  },
  {
   "cell_type": "code",
   "execution_count": 31,
   "metadata": {},
   "outputs": [
    {
     "name": "stdout",
     "output_type": "stream",
     "text": [
      "12 29\n"
     ]
    }
   ],
   "source": [
    "query = \"Do you know Zerone-consulting?\"\n",
    "ORG = 'Zerone-consulting'\n",
    "start = query.find(ORG)\n",
    "end = start + len(ORG)\n",
    "print(start, end)"
   ]
  },
  {
   "cell_type": "code",
   "execution_count": 86,
   "metadata": {},
   "outputs": [
    {
     "name": "stdout",
     "output_type": "stream",
     "text": [
      "200\n",
      "{'result': ['ORG(12,29) added'], 'error': [{'query': ['Query db with this Query already exists.']}]}\n"
     ]
    }
   ],
   "source": [
    "BASE_URL = 'http://127.0.0.1:8000/'\n",
    "ENDPOINT = 'save_data2db/'\n",
    "\n",
    "context = {\n",
    "  'query' :query,\n",
    "  'entity_list' : [( start,  end, 'ORG')]\n",
    "}\n",
    "# new_emp = json.dumps(context)\n",
    "resp = requests.post(BASE_URL+ENDPOINT, data=context)\n",
    "print(resp.status_code)\n",
    "if resp.status_code == 200:\n",
    "    print(resp.json())\n",
    "if resp.status_code == 406:\n",
    "    print(resp.json())\n",
    "if resp.status_code == 400:\n",
    "    print(resp.json())"
   ]
  },
  {
   "cell_type": "code",
   "execution_count": 85,
   "metadata": {},
   "outputs": [
    {
     "name": "stdout",
     "output_type": "stream",
     "text": [
      "200\n",
      "{'result': ['Training started'], 'error': []}\n"
     ]
    }
   ],
   "source": [
    "BASE_URL = 'http://127.0.0.1:8000/'\n",
    "ENDPOINT = 'train/'\n",
    "\n",
    "context = {\n",
    "    'train' : True\n",
    "}\n",
    "# new_emp = json.dumps(context)\n",
    "resp = requests.post(BASE_URL+ENDPOINT, data=context)\n",
    "print(resp.status_code)\n",
    "if resp.status_code == 200:\n",
    "    print(resp.json())\n",
    "if resp.status_code == 406:\n",
    "    print(resp.json())\n",
    "if resp.status_code == 400:\n",
    "    print(resp.json())"
   ]
  },
  {
   "cell_type": "code",
   "execution_count": 84,
   "metadata": {},
   "outputs": [
    {
     "name": "stdout",
     "output_type": "stream",
     "text": [
      "200\n",
      "{'result': {'test_text': ' Do you know abhi? All posted by employees working at Zerone Consulting.', 'entities': [['ORG', 'Zerone Consulting']]}, 'error': []}\n"
     ]
    }
   ],
   "source": [
    "BASE_URL = 'http://127.0.0.1:8000/'\n",
    "ENDPOINT = 'test/'\n",
    "\n",
    "context = {\n",
    "    'test_text' : \" Do you know abhi? All posted by employees working at Zerone Consulting.\"\n",
    "}\n",
    "# new_emp = json.dumps(context)\n",
    "resp = requests.post(BASE_URL+ENDPOINT, data=context)\n",
    "print(resp.status_code)\n",
    "if resp.status_code == 200:\n",
    "    print(resp.json())\n",
    "if resp.status_code == 406:\n",
    "    print(resp.json())\n",
    "if resp.status_code == 400:\n",
    "    print(resp.json())"
   ]
  },
  {
   "cell_type": "code",
   "execution_count": null,
   "metadata": {},
   "outputs": [],
   "source": []
  }
 ],
 "metadata": {
  "kernelspec": {
   "display_name": "Python 3",
   "language": "python",
   "name": "python3"
  },
  "language_info": {
   "codemirror_mode": {
    "name": "ipython",
    "version": 3
   },
   "file_extension": ".py",
   "mimetype": "text/x-python",
   "name": "python",
   "nbconvert_exporter": "python",
   "pygments_lexer": "ipython3",
   "version": "3.6.8"
  }
 },
 "nbformat": 4,
 "nbformat_minor": 2
}
